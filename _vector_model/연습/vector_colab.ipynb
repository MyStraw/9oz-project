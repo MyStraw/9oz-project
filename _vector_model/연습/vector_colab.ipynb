{
  "cells": [
    {
      "cell_type": "code",
      "execution_count": 3,
      "metadata": {
        "id": "pOvNlXxWDvBh"
      },
      "outputs": [],
      "source": [
        "import os\n",
        "from PIL import Image\n",
        "\n",
        "# A 폴더와 B 폴더 경로 설정\n",
        "A_folder_path = '/content/local/A_folder/'\n",
        "B_folder_path = '/content/local/B_folder/'\n",
        "\n",
        "# 폴더에서 이미지 파일 목록 불러오기\n",
        "A_image_files = [f for f in os.listdir(A_folder_path) if f.endswith('.jpg') or f.endswith('.png')]\n",
        "B_image_files = [f for f in os.listdir(B_folder_path) if f.endswith('.jpg') or f.endswith('.png')]\n",
        "\n",
        "# 이미지 불러오기 (예시로 A 폴더의 첫 번째 이미지)\n",
        "example_A_image = Image.open(os.path.join(A_folder_path, A_image_files[0]))\n",
        "\n",
        "# 이미지 확인 (옵션)\n",
        "#example_A_image.show()\n"
      ]
    },
    {
      "cell_type": "code",
      "execution_count": 4,
      "metadata": {
        "id": "Cr4GdgZHDvBk"
      },
      "outputs": [],
      "source": [
        "# 리사이징할 이미지의 크기 설정\n",
        "resize_shape = (128, 128)\n",
        "\n",
        "# A 폴더의 모든 이미지 리사이징\n",
        "A_images_resized = [Image.open(os.path.join(A_folder_path, f)).resize(resize_shape) for f in A_image_files]\n",
        "\n",
        "# B 폴더의 모든 이미지 리사이징\n",
        "B_images_resized = [Image.open(os.path.join(B_folder_path, f)).resize(resize_shape) for f in B_image_files]\n"
      ]
    },
    {
      "cell_type": "code",
      "execution_count": 5,
      "metadata": {
        "id": "2Pu3cVp1DvBk"
      },
      "outputs": [],
      "source": [
        "import numpy as np\n",
        "from tensorflow.keras.preprocessing.image import img_to_array\n",
        "\n",
        "# 이미지를 numpy 배열로 변환\n",
        "A_images_array = np.array([img_to_array(img) for img in A_images_resized])\n",
        "B_images_array = np.array([img_to_array(img) for img in B_images_resized])\n",
        "\n",
        "# 데이터 정규화 (0~255 -> 0~1)\n",
        "A_images_array = A_images_array.astype('float32') / 255.\n",
        "B_images_array = B_images_array.astype('float32') / 255.\n"
      ]
    },
    {
      "cell_type": "code",
      "execution_count": 7,
      "metadata": {
        "colab": {
          "base_uri": "https://localhost:8080/"
        },
        "id": "1v3i0cv2DvBl",
        "outputId": "f84bb8a0-ee57-4499-98fd-414561626385"
      },
      "outputs": [
        {
          "name": "stdout",
          "output_type": "stream",
          "text": [
            "Epoch 1/50\n",
            "39/39 [==============================] - 21s 146ms/step - loss: 0.6111\n",
            "Epoch 2/50\n",
            "39/39 [==============================] - 5s 133ms/step - loss: 0.5514\n",
            "Epoch 3/50\n",
            "39/39 [==============================] - 5s 126ms/step - loss: 0.5455\n",
            "Epoch 4/50\n",
            "39/39 [==============================] - 5s 124ms/step - loss: 0.5425\n",
            "Epoch 5/50\n",
            "39/39 [==============================] - 5s 131ms/step - loss: 0.5403\n",
            "Epoch 6/50\n",
            "39/39 [==============================] - 5s 125ms/step - loss: 0.5393\n",
            "Epoch 7/50\n",
            "39/39 [==============================] - 5s 125ms/step - loss: 0.5379\n",
            "Epoch 8/50\n",
            "39/39 [==============================] - 5s 132ms/step - loss: 0.5393\n",
            "Epoch 9/50\n",
            "39/39 [==============================] - 5s 127ms/step - loss: 0.5370\n",
            "Epoch 10/50\n",
            "39/39 [==============================] - 5s 129ms/step - loss: 0.5372\n",
            "Epoch 11/50\n",
            "39/39 [==============================] - 5s 133ms/step - loss: 0.5364\n",
            "Epoch 12/50\n",
            "39/39 [==============================] - 5s 128ms/step - loss: 0.5365\n",
            "Epoch 13/50\n",
            "39/39 [==============================] - 5s 137ms/step - loss: 0.5362\n",
            "Epoch 14/50\n",
            "39/39 [==============================] - 5s 131ms/step - loss: 0.5358\n",
            "Epoch 15/50\n",
            "39/39 [==============================] - 5s 130ms/step - loss: 0.5368\n",
            "Epoch 16/50\n",
            "39/39 [==============================] - 5s 135ms/step - loss: 0.5353\n",
            "Epoch 17/50\n",
            "39/39 [==============================] - 5s 131ms/step - loss: 0.5353\n",
            "Epoch 18/50\n",
            "39/39 [==============================] - 5s 133ms/step - loss: 0.5360\n",
            "Epoch 19/50\n",
            "39/39 [==============================] - 5s 137ms/step - loss: 0.5361\n",
            "Epoch 20/50\n",
            "39/39 [==============================] - 5s 133ms/step - loss: 0.5350\n",
            "Epoch 21/50\n",
            "39/39 [==============================] - 5s 138ms/step - loss: 0.5347\n",
            "Epoch 22/50\n",
            "39/39 [==============================] - 5s 136ms/step - loss: 0.5351\n",
            "Epoch 23/50\n",
            "39/39 [==============================] - 5s 138ms/step - loss: 0.5346\n",
            "Epoch 24/50\n",
            "39/39 [==============================] - 5s 137ms/step - loss: 0.5344\n",
            "Epoch 25/50\n",
            "39/39 [==============================] - 5s 132ms/step - loss: 0.5344\n",
            "Epoch 26/50\n",
            "39/39 [==============================] - 5s 135ms/step - loss: 0.5359\n",
            "Epoch 27/50\n",
            "39/39 [==============================] - 5s 135ms/step - loss: 0.5355\n",
            "Epoch 28/50\n",
            "39/39 [==============================] - 5s 131ms/step - loss: 0.5343\n",
            "Epoch 29/50\n",
            "39/39 [==============================] - 5s 136ms/step - loss: 0.5341\n",
            "Epoch 30/50\n",
            "39/39 [==============================] - 5s 131ms/step - loss: 0.5340\n",
            "Epoch 31/50\n",
            "39/39 [==============================] - 5s 131ms/step - loss: 0.5345\n",
            "Epoch 32/50\n",
            "39/39 [==============================] - 5s 136ms/step - loss: 0.5340\n",
            "Epoch 33/50\n",
            "39/39 [==============================] - 5s 132ms/step - loss: 0.5339\n",
            "Epoch 34/50\n",
            "39/39 [==============================] - 5s 136ms/step - loss: 0.5345\n",
            "Epoch 35/50\n",
            "39/39 [==============================] - 5s 132ms/step - loss: 0.5343\n",
            "Epoch 36/50\n",
            "39/39 [==============================] - 5s 132ms/step - loss: 0.5337\n",
            "Epoch 37/50\n",
            "39/39 [==============================] - 5s 138ms/step - loss: 0.5336\n",
            "Epoch 38/50\n",
            "39/39 [==============================] - 5s 132ms/step - loss: 0.5336\n",
            "Epoch 39/50\n",
            "39/39 [==============================] - 5s 134ms/step - loss: 0.5337\n",
            "Epoch 40/50\n",
            "39/39 [==============================] - 5s 135ms/step - loss: 0.5335\n",
            "Epoch 41/50\n",
            "39/39 [==============================] - 5s 133ms/step - loss: 0.5343\n",
            "Epoch 42/50\n",
            "39/39 [==============================] - 5s 136ms/step - loss: 0.5344\n",
            "Epoch 43/50\n",
            "39/39 [==============================] - 5s 133ms/step - loss: 0.5334\n",
            "Epoch 44/50\n",
            "39/39 [==============================] - 5s 132ms/step - loss: 0.5333\n",
            "Epoch 45/50\n",
            "39/39 [==============================] - 5s 136ms/step - loss: 0.5334\n",
            "Epoch 46/50\n",
            "39/39 [==============================] - 5s 137ms/step - loss: 0.5338\n",
            "Epoch 47/50\n",
            "39/39 [==============================] - 5s 134ms/step - loss: 0.5334\n",
            "Epoch 48/50\n",
            "39/39 [==============================] - 5s 134ms/step - loss: 0.5332\n",
            "Epoch 49/50\n",
            "39/39 [==============================] - 5s 133ms/step - loss: 0.5332\n",
            "Epoch 50/50\n",
            "39/39 [==============================] - 5s 137ms/step - loss: 0.5342\n"
          ]
        },
        {
          "data": {
            "text/plain": [
              "<keras.callbacks.History at 0x7efbd39aeb90>"
            ]
          },
          "execution_count": 7,
          "metadata": {},
          "output_type": "execute_result"
        }
      ],
      "source": [
        "from tensorflow.keras.models import Model\n",
        "from tensorflow.keras.layers import Input, Conv2D, MaxPooling2D, UpSampling2D\n",
        "\n",
        "# 오토인코더 모델 구성\n",
        "input_img = Input(shape=(128, 128, 3))\n",
        "\n",
        "# 인코더 부분\n",
        "x = Conv2D(32, (3, 3), activation='relu', padding='same')(input_img)\n",
        "x = MaxPooling2D((2, 2), padding='same')(x)\n",
        "x = Conv2D(64, (3, 3), activation='relu', padding='same')(x)\n",
        "encoded = MaxPooling2D((2, 2), padding='same')(x)\n",
        "\n",
        "# # 디코더 부분\n",
        "# x = Conv2D(64, (3, 3), activation='relu', padding='same')(encoded)\n",
        "# x = UpSampling2D((2, 2))(x)\n",
        "# x = Conv2D(32, (3, 3), activation='relu', padding='same')(x)\n",
        "# x = UpSampling2D((2, 2))(x)\n",
        "# decoded = Conv2D(3, (3, 3), activation='sigmoid', padding='same')(x)\n",
        "\n",
        "# 오토인코더 모델 생성\n",
        "autoencoder = Model(input_img, decoded)\n",
        "autoencoder.compile(optimizer='adam', loss='binary_crossentropy')\n",
        "\n",
        "# 모델 학습 (A 폴더와 B 폴더의 이미지를 모두 사용)\n",
        "autoencoder.fit(np.concatenate([A_images_array, B_images_array]),\n",
        "                np.concatenate([A_images_array, B_images_array]),\n",
        "                epochs=50, batch_size=128, shuffle=True)\n"
      ]
    },
    {
      "cell_type": "code",
      "execution_count": 8,
      "metadata": {
        "colab": {
          "base_uri": "https://localhost:8080/"
        },
        "id": "cnx7gbw8DvBl",
        "outputId": "e7db2363-1886-47a3-ab55-525b3bbd43b9"
      },
      "outputs": [
        {
          "name": "stdout",
          "output_type": "stream",
          "text": [
            "71/71 [==============================] - 1s 5ms/step\n",
            "83/83 [==============================] - 0s 4ms/step\n"
          ]
        }
      ],
      "source": [
        "# 인코더 모델 생성\n",
        "encoder = Model(inputs=autoencoder.input, outputs=encoded)\n",
        "\n",
        "# A, B 폴더의 이미지에 대한 잠재 벡터 추출\n",
        "A_latent_vectors = encoder.predict(A_images_array)\n",
        "B_latent_vectors = encoder.predict(B_images_array)\n",
        "\n",
        "# 잠재 벡터의 모양을 1차원으로 변경 (옵션)\n",
        "A_latent_vectors = A_latent_vectors.reshape((A_latent_vectors.shape[0], -1))\n",
        "B_latent_vectors = B_latent_vectors.reshape((B_latent_vectors.shape[0], -1))\n"
      ]
    },
    {
      "cell_type": "code",
      "execution_count": 11,
      "metadata": {
        "colab": {
          "base_uri": "https://localhost:8080/",
          "height": 815
        },
        "id": "HclDNYOvezpA",
        "outputId": "aa5dab67-6d04-4e09-a113-9ad1b844e4de"
      },
      "outputs": [
        {
          "name": "stderr",
          "output_type": "stream",
          "text": [
            "/usr/local/lib/python3.10/dist-packages/sklearn/cluster/_kmeans.py:870: FutureWarning: The default value of `n_init` will change from 10 to 'auto' in 1.4. Set the value of `n_init` explicitly to suppress the warning\n",
            "  warnings.warn(\n",
            "/usr/local/lib/python3.10/dist-packages/sklearn/cluster/_kmeans.py:870: FutureWarning: The default value of `n_init` will change from 10 to 'auto' in 1.4. Set the value of `n_init` explicitly to suppress the warning\n",
            "  warnings.warn(\n",
            "/usr/local/lib/python3.10/dist-packages/sklearn/cluster/_kmeans.py:870: FutureWarning: The default value of `n_init` will change from 10 to 'auto' in 1.4. Set the value of `n_init` explicitly to suppress the warning\n",
            "  warnings.warn(\n",
            "/usr/local/lib/python3.10/dist-packages/sklearn/cluster/_kmeans.py:870: FutureWarning: The default value of `n_init` will change from 10 to 'auto' in 1.4. Set the value of `n_init` explicitly to suppress the warning\n",
            "  warnings.warn(\n",
            "/usr/local/lib/python3.10/dist-packages/sklearn/cluster/_kmeans.py:870: FutureWarning: The default value of `n_init` will change from 10 to 'auto' in 1.4. Set the value of `n_init` explicitly to suppress the warning\n",
            "  warnings.warn(\n",
            "/usr/local/lib/python3.10/dist-packages/sklearn/cluster/_kmeans.py:870: FutureWarning: The default value of `n_init` will change from 10 to 'auto' in 1.4. Set the value of `n_init` explicitly to suppress the warning\n",
            "  warnings.warn(\n"
          ]
        },
        {
          "ename": "KeyboardInterrupt",
          "evalue": "ignored",
          "output_type": "error",
          "traceback": [
            "\u001b[0;31m---------------------------------------------------------------------------\u001b[0m",
            "\u001b[0;31mKeyboardInterrupt\u001b[0m                         Traceback (most recent call last)",
            "\u001b[0;32m/usr/local/lib/python3.10/dist-packages/numpy/core/overrides.py\u001b[0m in \u001b[0;36mwhere\u001b[0;34m(*args, **kwargs)\u001b[0m\n",
            "\u001b[0;31mKeyboardInterrupt\u001b[0m: "
          ]
        },
        {
          "name": "stderr",
          "output_type": "stream",
          "text": [
            "Exception ignored in: 'sklearn.cluster._k_means_common._relocate_empty_clusters_dense'\n",
            "Traceback (most recent call last):\n",
            "  File \"<__array_function__ internals>\", line 177, in where\n",
            "KeyboardInterrupt: \n"
          ]
        },
        {
          "ename": "KeyboardInterrupt",
          "evalue": "ignored",
          "output_type": "error",
          "traceback": [
            "\u001b[0;31m---------------------------------------------------------------------------\u001b[0m",
            "\u001b[0;31mKeyboardInterrupt\u001b[0m                         Traceback (most recent call last)",
            "\u001b[0;32m<ipython-input-11-61798de09d6d>\u001b[0m in \u001b[0;36m<cell line: 9>\u001b[0;34m()\u001b[0m\n\u001b[1;32m      8\u001b[0m \u001b[0minertia\u001b[0m \u001b[0;34m=\u001b[0m \u001b[0;34m[\u001b[0m\u001b[0;34m]\u001b[0m\u001b[0;34m\u001b[0m\u001b[0;34m\u001b[0m\u001b[0m\n\u001b[1;32m      9\u001b[0m \u001b[0;32mfor\u001b[0m \u001b[0mk\u001b[0m \u001b[0;32min\u001b[0m \u001b[0mK\u001b[0m\u001b[0;34m:\u001b[0m\u001b[0;34m\u001b[0m\u001b[0;34m\u001b[0m\u001b[0m\n\u001b[0;32m---> 10\u001b[0;31m     \u001b[0mkmeans\u001b[0m \u001b[0;34m=\u001b[0m \u001b[0mKMeans\u001b[0m\u001b[0;34m(\u001b[0m\u001b[0mn_clusters\u001b[0m\u001b[0;34m=\u001b[0m\u001b[0mk\u001b[0m\u001b[0;34m,\u001b[0m \u001b[0mrandom_state\u001b[0m\u001b[0;34m=\u001b[0m\u001b[0;36m0\u001b[0m\u001b[0;34m)\u001b[0m\u001b[0;34m.\u001b[0m\u001b[0mfit\u001b[0m\u001b[0;34m(\u001b[0m\u001b[0mA_latent_vectors\u001b[0m\u001b[0;34m)\u001b[0m\u001b[0;34m\u001b[0m\u001b[0;34m\u001b[0m\u001b[0m\n\u001b[0m\u001b[1;32m     11\u001b[0m     \u001b[0minertia\u001b[0m\u001b[0;34m.\u001b[0m\u001b[0mappend\u001b[0m\u001b[0;34m(\u001b[0m\u001b[0mkmeans\u001b[0m\u001b[0;34m.\u001b[0m\u001b[0minertia_\u001b[0m\u001b[0;34m)\u001b[0m\u001b[0;34m\u001b[0m\u001b[0;34m\u001b[0m\u001b[0m\n\u001b[1;32m     12\u001b[0m \u001b[0;34m\u001b[0m\u001b[0m\n",
            "\u001b[0;32m/usr/local/lib/python3.10/dist-packages/sklearn/cluster/_kmeans.py\u001b[0m in \u001b[0;36mfit\u001b[0;34m(self, X, y, sample_weight)\u001b[0m\n\u001b[1;32m   1459\u001b[0m         \u001b[0;32mfor\u001b[0m \u001b[0mi\u001b[0m \u001b[0;32min\u001b[0m \u001b[0mrange\u001b[0m\u001b[0;34m(\u001b[0m\u001b[0mself\u001b[0m\u001b[0;34m.\u001b[0m\u001b[0m_n_init\u001b[0m\u001b[0;34m)\u001b[0m\u001b[0;34m:\u001b[0m\u001b[0;34m\u001b[0m\u001b[0;34m\u001b[0m\u001b[0m\n\u001b[1;32m   1460\u001b[0m             \u001b[0;31m# Initialize centers\u001b[0m\u001b[0;34m\u001b[0m\u001b[0;34m\u001b[0m\u001b[0m\n\u001b[0;32m-> 1461\u001b[0;31m             centers_init = self._init_centroids(\n\u001b[0m\u001b[1;32m   1462\u001b[0m                 \u001b[0mX\u001b[0m\u001b[0;34m,\u001b[0m \u001b[0mx_squared_norms\u001b[0m\u001b[0;34m=\u001b[0m\u001b[0mx_squared_norms\u001b[0m\u001b[0;34m,\u001b[0m \u001b[0minit\u001b[0m\u001b[0;34m=\u001b[0m\u001b[0minit\u001b[0m\u001b[0;34m,\u001b[0m \u001b[0mrandom_state\u001b[0m\u001b[0;34m=\u001b[0m\u001b[0mrandom_state\u001b[0m\u001b[0;34m\u001b[0m\u001b[0;34m\u001b[0m\u001b[0m\n\u001b[1;32m   1463\u001b[0m             )\n",
            "\u001b[0;32m/usr/local/lib/python3.10/dist-packages/sklearn/cluster/_kmeans.py\u001b[0m in \u001b[0;36m_init_centroids\u001b[0;34m(self, X, x_squared_norms, init, random_state, init_size, n_centroids)\u001b[0m\n\u001b[1;32m    987\u001b[0m \u001b[0;34m\u001b[0m\u001b[0m\n\u001b[1;32m    988\u001b[0m         \u001b[0;32mif\u001b[0m \u001b[0misinstance\u001b[0m\u001b[0;34m(\u001b[0m\u001b[0minit\u001b[0m\u001b[0;34m,\u001b[0m \u001b[0mstr\u001b[0m\u001b[0;34m)\u001b[0m \u001b[0;32mand\u001b[0m \u001b[0minit\u001b[0m \u001b[0;34m==\u001b[0m \u001b[0;34m\"k-means++\"\u001b[0m\u001b[0;34m:\u001b[0m\u001b[0;34m\u001b[0m\u001b[0;34m\u001b[0m\u001b[0m\n\u001b[0;32m--> 989\u001b[0;31m             centers, _ = _kmeans_plusplus(\n\u001b[0m\u001b[1;32m    990\u001b[0m                 \u001b[0mX\u001b[0m\u001b[0;34m,\u001b[0m\u001b[0;34m\u001b[0m\u001b[0;34m\u001b[0m\u001b[0m\n\u001b[1;32m    991\u001b[0m                 \u001b[0mn_clusters\u001b[0m\u001b[0;34m,\u001b[0m\u001b[0;34m\u001b[0m\u001b[0;34m\u001b[0m\u001b[0m\n",
            "\u001b[0;32m/usr/local/lib/python3.10/dist-packages/sklearn/cluster/_kmeans.py\u001b[0m in \u001b[0;36m_kmeans_plusplus\u001b[0;34m(X, n_clusters, x_squared_norms, random_state, n_local_trials)\u001b[0m\n\u001b[1;32m    232\u001b[0m \u001b[0;34m\u001b[0m\u001b[0m\n\u001b[1;32m    233\u001b[0m         \u001b[0;31m# Compute distances to center candidates\u001b[0m\u001b[0;34m\u001b[0m\u001b[0;34m\u001b[0m\u001b[0m\n\u001b[0;32m--> 234\u001b[0;31m         distance_to_candidates = _euclidean_distances(\n\u001b[0m\u001b[1;32m    235\u001b[0m             \u001b[0mX\u001b[0m\u001b[0;34m[\u001b[0m\u001b[0mcandidate_ids\u001b[0m\u001b[0;34m]\u001b[0m\u001b[0;34m,\u001b[0m \u001b[0mX\u001b[0m\u001b[0;34m,\u001b[0m \u001b[0mY_norm_squared\u001b[0m\u001b[0;34m=\u001b[0m\u001b[0mx_squared_norms\u001b[0m\u001b[0;34m,\u001b[0m \u001b[0msquared\u001b[0m\u001b[0;34m=\u001b[0m\u001b[0;32mTrue\u001b[0m\u001b[0;34m\u001b[0m\u001b[0;34m\u001b[0m\u001b[0m\n\u001b[1;32m    236\u001b[0m         )\n",
            "\u001b[0;32m/usr/local/lib/python3.10/dist-packages/sklearn/metrics/pairwise.py\u001b[0m in \u001b[0;36m_euclidean_distances\u001b[0;34m(X, Y, X_norm_squared, Y_norm_squared, squared)\u001b[0m\n\u001b[1;32m    364\u001b[0m         \u001b[0;31m# To minimize precision issues with float32, we compute the distance\u001b[0m\u001b[0;34m\u001b[0m\u001b[0;34m\u001b[0m\u001b[0m\n\u001b[1;32m    365\u001b[0m         \u001b[0;31m# matrix on chunks of X and Y upcast to float64\u001b[0m\u001b[0;34m\u001b[0m\u001b[0;34m\u001b[0m\u001b[0m\n\u001b[0;32m--> 366\u001b[0;31m         \u001b[0mdistances\u001b[0m \u001b[0;34m=\u001b[0m \u001b[0m_euclidean_distances_upcast\u001b[0m\u001b[0;34m(\u001b[0m\u001b[0mX\u001b[0m\u001b[0;34m,\u001b[0m \u001b[0mXX\u001b[0m\u001b[0;34m,\u001b[0m \u001b[0mY\u001b[0m\u001b[0;34m,\u001b[0m \u001b[0mYY\u001b[0m\u001b[0;34m)\u001b[0m\u001b[0;34m\u001b[0m\u001b[0;34m\u001b[0m\u001b[0m\n\u001b[0m\u001b[1;32m    367\u001b[0m     \u001b[0;32melse\u001b[0m\u001b[0;34m:\u001b[0m\u001b[0;34m\u001b[0m\u001b[0;34m\u001b[0m\u001b[0m\n\u001b[1;32m    368\u001b[0m         \u001b[0;31m# if dtype is already float64, no need to chunk and upcast\u001b[0m\u001b[0;34m\u001b[0m\u001b[0;34m\u001b[0m\u001b[0m\n",
            "\u001b[0;32m/usr/local/lib/python3.10/dist-packages/sklearn/metrics/pairwise.py\u001b[0m in \u001b[0;36m_euclidean_distances_upcast\u001b[0;34m(X, XX, Y, YY, batch_size)\u001b[0m\n\u001b[1;32m    562\u001b[0m                 \u001b[0mY_chunk\u001b[0m \u001b[0;34m=\u001b[0m \u001b[0mY\u001b[0m\u001b[0;34m[\u001b[0m\u001b[0my_slice\u001b[0m\u001b[0;34m]\u001b[0m\u001b[0;34m.\u001b[0m\u001b[0mastype\u001b[0m\u001b[0;34m(\u001b[0m\u001b[0mnp\u001b[0m\u001b[0;34m.\u001b[0m\u001b[0mfloat64\u001b[0m\u001b[0;34m)\u001b[0m\u001b[0;34m\u001b[0m\u001b[0;34m\u001b[0m\u001b[0m\n\u001b[1;32m    563\u001b[0m                 \u001b[0;32mif\u001b[0m \u001b[0mYY\u001b[0m \u001b[0;32mis\u001b[0m \u001b[0;32mNone\u001b[0m\u001b[0;34m:\u001b[0m\u001b[0;34m\u001b[0m\u001b[0;34m\u001b[0m\u001b[0m\n\u001b[0;32m--> 564\u001b[0;31m                     \u001b[0mYY_chunk\u001b[0m \u001b[0;34m=\u001b[0m \u001b[0mrow_norms\u001b[0m\u001b[0;34m(\u001b[0m\u001b[0mY_chunk\u001b[0m\u001b[0;34m,\u001b[0m \u001b[0msquared\u001b[0m\u001b[0;34m=\u001b[0m\u001b[0;32mTrue\u001b[0m\u001b[0;34m)\u001b[0m\u001b[0;34m[\u001b[0m\u001b[0mnp\u001b[0m\u001b[0;34m.\u001b[0m\u001b[0mnewaxis\u001b[0m\u001b[0;34m,\u001b[0m \u001b[0;34m:\u001b[0m\u001b[0;34m]\u001b[0m\u001b[0;34m\u001b[0m\u001b[0;34m\u001b[0m\u001b[0m\n\u001b[0m\u001b[1;32m    565\u001b[0m                 \u001b[0;32melse\u001b[0m\u001b[0;34m:\u001b[0m\u001b[0;34m\u001b[0m\u001b[0;34m\u001b[0m\u001b[0m\n\u001b[1;32m    566\u001b[0m                     \u001b[0mYY_chunk\u001b[0m \u001b[0;34m=\u001b[0m \u001b[0mYY\u001b[0m\u001b[0;34m[\u001b[0m\u001b[0;34m:\u001b[0m\u001b[0;34m,\u001b[0m \u001b[0my_slice\u001b[0m\u001b[0;34m]\u001b[0m\u001b[0;34m\u001b[0m\u001b[0;34m\u001b[0m\u001b[0m\n",
            "\u001b[0;32m/usr/local/lib/python3.10/dist-packages/sklearn/utils/extmath.py\u001b[0m in \u001b[0;36mrow_norms\u001b[0;34m(X, squared)\u001b[0m\n\u001b[1;32m     75\u001b[0m         \u001b[0mnorms\u001b[0m \u001b[0;34m=\u001b[0m \u001b[0mcsr_row_norms\u001b[0m\u001b[0;34m(\u001b[0m\u001b[0mX\u001b[0m\u001b[0;34m)\u001b[0m\u001b[0;34m\u001b[0m\u001b[0;34m\u001b[0m\u001b[0m\n\u001b[1;32m     76\u001b[0m     \u001b[0;32melse\u001b[0m\u001b[0;34m:\u001b[0m\u001b[0;34m\u001b[0m\u001b[0;34m\u001b[0m\u001b[0m\n\u001b[0;32m---> 77\u001b[0;31m         \u001b[0mnorms\u001b[0m \u001b[0;34m=\u001b[0m \u001b[0mnp\u001b[0m\u001b[0;34m.\u001b[0m\u001b[0meinsum\u001b[0m\u001b[0;34m(\u001b[0m\u001b[0;34m\"ij,ij->i\"\u001b[0m\u001b[0;34m,\u001b[0m \u001b[0mX\u001b[0m\u001b[0;34m,\u001b[0m \u001b[0mX\u001b[0m\u001b[0;34m)\u001b[0m\u001b[0;34m\u001b[0m\u001b[0;34m\u001b[0m\u001b[0m\n\u001b[0m\u001b[1;32m     78\u001b[0m \u001b[0;34m\u001b[0m\u001b[0m\n\u001b[1;32m     79\u001b[0m     \u001b[0;32mif\u001b[0m \u001b[0;32mnot\u001b[0m \u001b[0msquared\u001b[0m\u001b[0;34m:\u001b[0m\u001b[0;34m\u001b[0m\u001b[0;34m\u001b[0m\u001b[0m\n",
            "\u001b[0;32m/usr/local/lib/python3.10/dist-packages/numpy/core/overrides.py\u001b[0m in \u001b[0;36meinsum\u001b[0;34m(*args, **kwargs)\u001b[0m\n",
            "\u001b[0;32m/usr/local/lib/python3.10/dist-packages/numpy/core/einsumfunc.py\u001b[0m in \u001b[0;36meinsum\u001b[0;34m(out, optimize, *operands, **kwargs)\u001b[0m\n\u001b[1;32m   1369\u001b[0m         \u001b[0;32mif\u001b[0m \u001b[0mspecified_out\u001b[0m\u001b[0;34m:\u001b[0m\u001b[0;34m\u001b[0m\u001b[0;34m\u001b[0m\u001b[0m\n\u001b[1;32m   1370\u001b[0m             \u001b[0mkwargs\u001b[0m\u001b[0;34m[\u001b[0m\u001b[0;34m'out'\u001b[0m\u001b[0;34m]\u001b[0m \u001b[0;34m=\u001b[0m \u001b[0mout\u001b[0m\u001b[0;34m\u001b[0m\u001b[0;34m\u001b[0m\u001b[0m\n\u001b[0;32m-> 1371\u001b[0;31m         \u001b[0;32mreturn\u001b[0m \u001b[0mc_einsum\u001b[0m\u001b[0;34m(\u001b[0m\u001b[0;34m*\u001b[0m\u001b[0moperands\u001b[0m\u001b[0;34m,\u001b[0m \u001b[0;34m**\u001b[0m\u001b[0mkwargs\u001b[0m\u001b[0;34m)\u001b[0m\u001b[0;34m\u001b[0m\u001b[0;34m\u001b[0m\u001b[0m\n\u001b[0m\u001b[1;32m   1372\u001b[0m \u001b[0;34m\u001b[0m\u001b[0m\n\u001b[1;32m   1373\u001b[0m     \u001b[0;31m# Check the kwargs to avoid a more cryptic error later, without having to\u001b[0m\u001b[0;34m\u001b[0m\u001b[0;34m\u001b[0m\u001b[0m\n",
            "\u001b[0;31mKeyboardInterrupt\u001b[0m: "
          ]
        }
      ],
      "source": [
        "from sklearn.cluster import KMeans\n",
        "import matplotlib.pyplot as plt\n",
        "\n",
        "# 계산할 k의 범위\n",
        "K = range(10,20 )\n",
        "\n",
        "# 각 k별로 모델을 학습시키고 inertia 값을 저장\n",
        "inertia = []\n",
        "for k in K:\n",
        "    kmeans = KMeans(n_clusters=k, random_state=0).fit(A_latent_vectors)\n",
        "    inertia.append(kmeans.inertia_)\n",
        "\n",
        "# Elbow 그래프를 그린다\n",
        "plt.figure(figsize=(8, 6))\n",
        "plt.plot(K, inertia, 'bo-')\n",
        "plt.xlabel('Number of clusters')\n",
        "plt.ylabel('Inertia')\n",
        "plt.title('The Elbow Method')\n",
        "plt.show()\n"
      ]
    },
    {
      "cell_type": "code",
      "execution_count": 12,
      "metadata": {
        "colab": {
          "base_uri": "https://localhost:8080/"
        },
        "id": "1-4tahIBDvBm",
        "outputId": "1968bea0-59ba-48e5-cd99-e4f9384e6d2b"
      },
      "outputs": [
        {
          "name": "stderr",
          "output_type": "stream",
          "text": [
            "/usr/local/lib/python3.10/dist-packages/sklearn/cluster/_kmeans.py:870: FutureWarning: The default value of `n_init` will change from 10 to 'auto' in 1.4. Set the value of `n_init` explicitly to suppress the warning\n",
            "  warnings.warn(\n",
            "/usr/local/lib/python3.10/dist-packages/sklearn/cluster/_kmeans.py:870: FutureWarning: The default value of `n_init` will change from 10 to 'auto' in 1.4. Set the value of `n_init` explicitly to suppress the warning\n",
            "  warnings.warn(\n"
          ]
        }
      ],
      "source": [
        "from sklearn.cluster import KMeans\n",
        "\n",
        "# 팔꿈치 지점을 찾는 코드 (자동화 되지 않았으며, 그래프를 보고 판단해야 함)\n",
        "elbow_k = 20  # 여기에 팔꿈치 지점에서의 k 값을 입력하세요\n",
        "\n",
        "# K-means 알고리즘으로 클러스터링\n",
        "# elbow_k를 n_clusters로 사용\n",
        "kmeans_A = KMeans(n_clusters=elbow_k, random_state=0).fit(A_latent_vectors)\n",
        "kmeans_B = KMeans(n_clusters=elbow_k, random_state=0).fit(B_latent_vectors)\n",
        "\n",
        "# A, B 폴더의 이미지에 대한 클러스터 라벨 추출\n",
        "A_cluster_labels = kmeans_A.labels_\n",
        "B_cluster_labels = kmeans_B.labels_\n"
      ]
    },
    {
      "cell_type": "code",
      "execution_count": 15,
      "metadata": {
        "id": "onScixylDvBm"
      },
      "outputs": [],
      "source": [
        "import pandas as pd\n",
        "# A 폴더의 특정 상품 이미지 선택 (예: 첫 번째 이미지)\n",
        "selected_A_index = 0\n",
        "selected_A_cluster = A_cluster_labels[selected_A_index]\n",
        "\n",
        "# 선택된 상품과 동일한 클러스터에 속한 B 폴더의 상품 찾기\n",
        "similar_B_indices = np.where(B_cluster_labels == selected_A_cluster)[0]\n",
        "\n",
        "# 유사한 상품의 이미지 목록 출력\n",
        "for idx in similar_B_indices:\n",
        "    similar_image = B_images_resized[idx]\n",
        "    similar_image.show()  # 이미지 출력 (옵션)\n",
        "\n",
        "# 유사한 상품의 파일명 목록 작성\n",
        "similar_B_filenames = [B_image_files[idx] for idx in similar_B_indices]\n",
        "\n",
        "# DataFrame으로 변환\n",
        "df = pd.DataFrame(similar_B_filenames, columns=['Similar_Products'])\n",
        "\n",
        "# CSV 파일로 저장\n",
        "csv_file_path = '/content/drive/MyDrive/K-fashion/vector model/B_result/similar_products.csv'  # 저장할 경로를 지정해주세요.\n",
        "df.to_csv(csv_file_path, index=False)\n"
      ]
    }
  ],
  "metadata": {
    "accelerator": "GPU",
    "colab": {
      "gpuType": "T4",
      "provenance": []
    },
    "kernelspec": {
      "display_name": "Python 3",
      "name": "python3"
    },
    "language_info": {
      "codemirror_mode": {
        "name": "ipython",
        "version": 3
      },
      "file_extension": ".py",
      "mimetype": "text/x-python",
      "name": "python",
      "nbconvert_exporter": "python",
      "pygments_lexer": "ipython3",
      "version": "3.10.11"
    },
    "orig_nbformat": 4
  },
  "nbformat": 4,
  "nbformat_minor": 0
}
